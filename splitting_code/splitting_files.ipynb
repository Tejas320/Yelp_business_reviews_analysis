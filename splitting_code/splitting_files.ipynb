{
 "cells": [
  {
   "cell_type": "code",
   "execution_count": 8,
   "id": "31be1e2a",
   "metadata": {},
   "outputs": [],
   "source": [
    "import json"
   ]
  },
  {
   "cell_type": "code",
   "execution_count": 9,
   "id": "dac9ba1f",
   "metadata": {},
   "outputs": [],
   "source": [
    "input_file = 'yelp_academic_dataset_review.json'\n",
    "output_prefix = 'split_file_'\n",
    "num_files = 10"
   ]
  },
  {
   "cell_type": "code",
   "execution_count": 10,
   "id": "ae5437bc",
   "metadata": {},
   "outputs": [
    {
     "name": "stdout",
     "output_type": "stream",
     "text": [
      "Total lines: 6990280, Lines per file: 699028\n"
     ]
    }
   ],
   "source": [
    "with open(input_file, 'r', encoding='utf8') as f:\n",
    "    total_lines = sum(1 for _ in f)\n",
    "lines_per_file = total_lines//num_files\n",
    "print(f\"Total lines: {total_lines}, Lines per file: {lines_per_file}\")"
   ]
  },
  {
   "cell_type": "code",
   "execution_count": 11,
   "id": "c83445ee",
   "metadata": {},
   "outputs": [],
   "source": [
    "with open(input_file, 'r', encoding='utf8') as f:\n",
    "    for i in range(num_files):\n",
    "        output_filename = f\"{output_prefix}{i+1}.json\"\n",
    "        \n",
    "        with open(output_filename, 'w', encoding='utf8') as out_file:\n",
    "            for j in range(lines_per_file):\n",
    "                line = f.readline()\n",
    "                if not line:\n",
    "                    break\n",
    "                out_file.write(line)"
   ]
  },
  {
   "cell_type": "code",
   "execution_count": null,
   "id": "c5ca843f",
   "metadata": {},
   "outputs": [],
   "source": []
  }
 ],
 "metadata": {
  "kernelspec": {
   "display_name": "Python 3 (ipykernel)",
   "language": "python",
   "name": "python3"
  },
  "language_info": {
   "codemirror_mode": {
    "name": "ipython",
    "version": 3
   },
   "file_extension": ".py",
   "mimetype": "text/x-python",
   "name": "python",
   "nbconvert_exporter": "python",
   "pygments_lexer": "ipython3",
   "version": "3.9.13"
  }
 },
 "nbformat": 4,
 "nbformat_minor": 5
}
